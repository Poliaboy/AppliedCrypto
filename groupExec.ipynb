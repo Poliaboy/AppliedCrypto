{
 "cells": [
  {
   "cell_type": "code",
   "outputs": [
    {
     "name": "stdout",
     "output_type": "stream",
     "text": [
      "1918272959\n",
      "453705780\n"
     ]
    }
   ],
   "source": [
    "p = 2470094699\n",
    "q = 1235047349\n",
    "g = 1259\n",
    "a2 = 53\n",
    "A2  = g**a2 % p\n",
    "print(A2)\n",
    "\n",
    "A4 = 539036556\n",
    "B4 = A4 ** a2 % p\n",
    "print(B4)"
   ],
   "metadata": {
    "collapsed": false,
    "ExecuteTime": {
     "end_time": "2024-02-14T19:06:52.339959Z",
     "start_time": "2024-02-14T19:06:52.337023Z"
    }
   },
   "id": "a77a789d481766d0",
   "execution_count": 7
  },
  {
   "cell_type": "code",
   "outputs": [],
   "source": [],
   "metadata": {
    "collapsed": false
   },
   "id": "8f57bac2e39c1a6a"
  }
 ],
 "metadata": {
  "kernelspec": {
   "display_name": "Python 3",
   "language": "python",
   "name": "python3"
  },
  "language_info": {
   "codemirror_mode": {
    "name": "ipython",
    "version": 2
   },
   "file_extension": ".py",
   "mimetype": "text/x-python",
   "name": "python",
   "nbconvert_exporter": "python",
   "pygments_lexer": "ipython2",
   "version": "2.7.6"
  }
 },
 "nbformat": 4,
 "nbformat_minor": 5
}
