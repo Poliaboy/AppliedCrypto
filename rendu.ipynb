{
 "cells": [
  {
   "cell_type": "code",
   "outputs": [],
   "source": [
    "import random\n",
    "import hashlib\n",
    "import time\n",
    "import hashlib\n",
    "import random\n",
    "import time\n",
    "\n",
    "import gmpy2"
   ],
   "metadata": {
    "collapsed": false,
    "ExecuteTime": {
     "end_time": "2024-02-07T16:25:59.052418Z",
     "start_time": "2024-02-07T16:25:59.048734Z"
    }
   },
   "id": "df947d801bc2b902",
   "execution_count": 11
  },
  {
   "cell_type": "code",
   "outputs": [],
   "source": [
    "# Function to generate SHA-256 hash\n",
    "\n",
    "def random_utf8_char():\n",
    "    # Exclude the surrogate pair range\n",
    "    valid_ranges = [(0x0000, 0xD7FF), (0xE000, 0xFFFF), (0x10000, 0x10FFFF)]\n",
    "    chosen_range = random.choice(valid_ranges)\n",
    "    return chr(random.randint(*chosen_range))"
   ],
   "metadata": {
    "collapsed": false,
    "ExecuteTime": {
     "end_time": "2024-02-07T16:25:59.053576Z",
     "start_time": "2024-02-07T16:25:59.051798Z"
    }
   },
   "id": "d127ad673d772109",
   "execution_count": 12
  },
  {
   "cell_type": "code",
   "outputs": [],
   "source": [
    "def find_hash_with_suffix(target_string, suffix='00000'):\n",
    "    start_time = time.time()  # Start timing\n",
    "    while True:\n",
    "        modified_string = target_string + random_utf8_char()\n",
    "        new_hash = hashlib.sha256(modified_string.encode('utf-8')).hexdigest()\n",
    "        if new_hash.endswith(suffix):\n",
    "            end_time = time.time()  # End timing\n",
    "            elapsed_time = end_time - start_time  # Calculate elapsed time\n",
    "            return modified_string, new_hash, elapsed_time"
   ],
   "metadata": {
    "collapsed": false,
    "ExecuteTime": {
     "end_time": "2024-02-07T16:25:59.059884Z",
     "start_time": "2024-02-07T16:25:59.055977Z"
    }
   },
   "id": "dfadc33a1df65562",
   "execution_count": 13
  },
  {
   "cell_type": "code",
   "outputs": [
    {
     "name": "stdout",
     "output_type": "stream",
     "text": [
      "Initial string: Alex Szpakiewicz, Léonard Roussard and Sara Thibierge.\n",
      "Initial SHA-256 hash: 893b031b8a76e5c3dad5bf1f76125ef5237e0494a02da76a4ff0428b4bcce484\n"
     ]
    }
   ],
   "source": [
    "# Initial string\n",
    "initial_string = \"Alex Szpakiewicz, Léonard Roussard and Sara Thibierge.\"\n",
    "initial_hash    = hashlib.sha256(initial_string.encode('utf-8')).hexdigest()\n",
    "print(f\"Initial string: {initial_string}\")\n",
    "print(f\"Initial SHA-256 hash: {initial_hash}\")"
   ],
   "metadata": {
    "collapsed": false,
    "ExecuteTime": {
     "end_time": "2024-02-07T16:25:59.062706Z",
     "start_time": "2024-02-07T16:25:59.059388Z"
    }
   },
   "id": "85721362e7dff778",
   "execution_count": 14
  },
  {
   "cell_type": "code",
   "outputs": [
    {
     "ename": "KeyboardInterrupt",
     "evalue": "",
     "output_type": "error",
     "traceback": [
      "\u001B[0;31m---------------------------------------------------------------------------\u001B[0m",
      "\u001B[0;31mKeyboardInterrupt\u001B[0m                         Traceback (most recent call last)",
      "Cell \u001B[0;32mIn[15], line 1\u001B[0m\n\u001B[0;32m----> 1\u001B[0m modified_string, final_hash, computing_time \u001B[38;5;241m=\u001B[39m \u001B[43mfind_hash_with_suffix\u001B[49m\u001B[43m(\u001B[49m\u001B[43minitial_string\u001B[49m\u001B[43m)\u001B[49m\n\u001B[1;32m      2\u001B[0m \u001B[38;5;28mprint\u001B[39m(\u001B[38;5;124mf\u001B[39m\u001B[38;5;124m\"\u001B[39m\u001B[38;5;124mFinal SHA-256 hash ending with the specified suffix: \u001B[39m\u001B[38;5;132;01m{\u001B[39;00mfinal_hash\u001B[38;5;132;01m}\u001B[39;00m\u001B[38;5;124m\"\u001B[39m)\n\u001B[1;32m      3\u001B[0m \u001B[38;5;28mprint\u001B[39m(\u001B[38;5;124mf\u001B[39m\u001B[38;5;124m\"\u001B[39m\u001B[38;5;124mComputing time: \u001B[39m\u001B[38;5;132;01m{\u001B[39;00mcomputing_time\u001B[38;5;132;01m}\u001B[39;00m\u001B[38;5;124m seconds\u001B[39m\u001B[38;5;124m\"\u001B[39m)\n",
      "Cell \u001B[0;32mIn[13], line 4\u001B[0m, in \u001B[0;36mfind_hash_with_suffix\u001B[0;34m(target_string, suffix)\u001B[0m\n\u001B[1;32m      2\u001B[0m start_time \u001B[38;5;241m=\u001B[39m time\u001B[38;5;241m.\u001B[39mtime()  \u001B[38;5;66;03m# Start timing\u001B[39;00m\n\u001B[1;32m      3\u001B[0m \u001B[38;5;28;01mwhile\u001B[39;00m \u001B[38;5;28;01mTrue\u001B[39;00m:\n\u001B[0;32m----> 4\u001B[0m     modified_string \u001B[38;5;241m=\u001B[39m target_string \u001B[38;5;241m+\u001B[39m \u001B[43mrandom_utf8_char\u001B[49m\u001B[43m(\u001B[49m\u001B[43m)\u001B[49m\n\u001B[1;32m      5\u001B[0m     new_hash \u001B[38;5;241m=\u001B[39m hashlib\u001B[38;5;241m.\u001B[39msha256(modified_string\u001B[38;5;241m.\u001B[39mencode(\u001B[38;5;124m'\u001B[39m\u001B[38;5;124mutf-8\u001B[39m\u001B[38;5;124m'\u001B[39m))\u001B[38;5;241m.\u001B[39mhexdigest()\n\u001B[1;32m      6\u001B[0m     \u001B[38;5;28;01mif\u001B[39;00m new_hash\u001B[38;5;241m.\u001B[39mendswith(suffix):\n",
      "Cell \u001B[0;32mIn[12], line 6\u001B[0m, in \u001B[0;36mrandom_utf8_char\u001B[0;34m()\u001B[0m\n\u001B[1;32m      3\u001B[0m \u001B[38;5;28;01mdef\u001B[39;00m \u001B[38;5;21mrandom_utf8_char\u001B[39m():\n\u001B[1;32m      4\u001B[0m     \u001B[38;5;66;03m# Exclude the surrogate pair range\u001B[39;00m\n\u001B[1;32m      5\u001B[0m     valid_ranges \u001B[38;5;241m=\u001B[39m [(\u001B[38;5;241m0x0000\u001B[39m, \u001B[38;5;241m0xD7FF\u001B[39m), (\u001B[38;5;241m0xE000\u001B[39m, \u001B[38;5;241m0xFFFF\u001B[39m), (\u001B[38;5;241m0x10000\u001B[39m, \u001B[38;5;241m0x10FFFF\u001B[39m)]\n\u001B[0;32m----> 6\u001B[0m     chosen_range \u001B[38;5;241m=\u001B[39m \u001B[43mrandom\u001B[49m\u001B[38;5;241;43m.\u001B[39;49m\u001B[43mchoice\u001B[49m\u001B[43m(\u001B[49m\u001B[43mvalid_ranges\u001B[49m\u001B[43m)\u001B[49m\n\u001B[1;32m      7\u001B[0m     \u001B[38;5;28;01mreturn\u001B[39;00m \u001B[38;5;28mchr\u001B[39m(random\u001B[38;5;241m.\u001B[39mrandint(\u001B[38;5;241m*\u001B[39mchosen_range))\n",
      "File \u001B[0;32m/Library/Frameworks/Python.framework/Versions/3.11/lib/python3.11/random.py:374\u001B[0m, in \u001B[0;36mRandom.choice\u001B[0;34m(self, seq)\u001B[0m\n\u001B[1;32m    372\u001B[0m \u001B[38;5;28;01mif\u001B[39;00m \u001B[38;5;129;01mnot\u001B[39;00m \u001B[38;5;28mlen\u001B[39m(seq):\n\u001B[1;32m    373\u001B[0m     \u001B[38;5;28;01mraise\u001B[39;00m \u001B[38;5;167;01mIndexError\u001B[39;00m(\u001B[38;5;124m'\u001B[39m\u001B[38;5;124mCannot choose from an empty sequence\u001B[39m\u001B[38;5;124m'\u001B[39m)\n\u001B[0;32m--> 374\u001B[0m \u001B[38;5;28;01mreturn\u001B[39;00m seq[\u001B[38;5;28;43mself\u001B[39;49m\u001B[38;5;241;43m.\u001B[39;49m\u001B[43m_randbelow\u001B[49m\u001B[43m(\u001B[49m\u001B[38;5;28;43mlen\u001B[39;49m\u001B[43m(\u001B[49m\u001B[43mseq\u001B[49m\u001B[43m)\u001B[49m\u001B[43m)\u001B[49m]\n",
      "File \u001B[0;32m/Library/Frameworks/Python.framework/Versions/3.11/lib/python3.11/random.py:235\u001B[0m, in \u001B[0;36mRandom._randbelow_with_getrandbits\u001B[0;34m(self, n)\u001B[0m\n\u001B[1;32m    232\u001B[0m             \u001B[38;5;28mcls\u001B[39m\u001B[38;5;241m.\u001B[39m_randbelow \u001B[38;5;241m=\u001B[39m \u001B[38;5;28mcls\u001B[39m\u001B[38;5;241m.\u001B[39m_randbelow_without_getrandbits\n\u001B[1;32m    233\u001B[0m             \u001B[38;5;28;01mbreak\u001B[39;00m\n\u001B[0;32m--> 235\u001B[0m \u001B[38;5;28;01mdef\u001B[39;00m \u001B[38;5;21m_randbelow_with_getrandbits\u001B[39m(\u001B[38;5;28mself\u001B[39m, n):\n\u001B[1;32m    236\u001B[0m     \u001B[38;5;124m\"\u001B[39m\u001B[38;5;124mReturn a random int in the range [0,n).  Defined for n > 0.\u001B[39m\u001B[38;5;124m\"\u001B[39m\n\u001B[1;32m    238\u001B[0m     getrandbits \u001B[38;5;241m=\u001B[39m \u001B[38;5;28mself\u001B[39m\u001B[38;5;241m.\u001B[39mgetrandbits\n",
      "\u001B[0;31mKeyboardInterrupt\u001B[0m: "
     ]
    }
   ],
   "source": [
    "modified_string, final_hash, computing_time = find_hash_with_suffix(initial_string)\n",
    "print(f\"Final SHA-256 hash ending with the specified suffix: {final_hash}\")\n",
    "print(f\"Computing time: {computing_time} seconds\")"
   ],
   "metadata": {
    "collapsed": false,
    "ExecuteTime": {
     "end_time": "2024-02-07T16:30:00.472276Z",
     "start_time": "2024-02-07T16:25:59.122331Z"
    }
   },
   "id": "4689291cb59b7993",
   "execution_count": 15
  },
  {
   "cell_type": "code",
   "outputs": [
    {
     "name": "stdout",
     "output_type": "stream",
     "text": [
      "Obtain hash: d89db4064171987e5b5a0dc5def4f9b8d48bf5062fa01d8281270e91e0000000\n"
     ]
    }
   ],
   "source": [
    "_string = \"Alex Szpakiewicz, Léonard Roussard and Sara Thibierge.,]e.\"\n",
    "new_hash = hashlib.sha256(_string.encode('utf-8')).hexdigest()\n",
    "print(f'Obtain hash: {new_hash}')"
   ],
   "metadata": {
    "collapsed": false,
    "ExecuteTime": {
     "end_time": "2024-02-07T16:52:02.676998Z",
     "start_time": "2024-02-07T16:52:02.673282Z"
    }
   },
   "id": "bbf1a0febf14a2e1",
   "execution_count": 16
  },
  {
   "cell_type": "code",
   "outputs": [
    {
     "data": {
      "text/plain": "273"
     },
     "execution_count": 19,
     "metadata": {},
     "output_type": "execute_result"
    }
   ],
   "source": [
    "import gmpy2 as gm\n",
    "w = [int(gm.is_prime(i)) for i in range(2**50, 2**50 + 10000)]\n",
    "sum(w)"
   ],
   "metadata": {
    "collapsed": false,
    "ExecuteTime": {
     "end_time": "2024-02-07T17:27:20.053796Z",
     "start_time": "2024-02-07T17:27:20.050267Z"
    }
   },
   "id": "3d91f8e047278505",
   "execution_count": 19
  },
  {
   "cell_type": "code",
   "outputs": [
    {
     "name": "stdout",
     "output_type": "stream",
     "text": [
      "8600\n"
     ]
    }
   ],
   "source": [
    "y = pow(3752, 11,21733)\n",
    "print(y)"
   ],
   "metadata": {
    "collapsed": false,
    "ExecuteTime": {
     "end_time": "2024-02-07T17:57:24.622257Z",
     "start_time": "2024-02-07T17:57:24.620070Z"
    }
   },
   "id": "a5227a9b4e155483",
   "execution_count": 20
  },
  {
   "cell_type": "code",
   "outputs": [
    {
     "data": {
      "text/plain": "3752"
     },
     "execution_count": 21,
     "metadata": {},
     "output_type": "execute_result"
    }
   ],
   "source": [
    "pow(y,13631,21733)"
   ],
   "metadata": {
    "collapsed": false,
    "ExecuteTime": {
     "end_time": "2024-02-07T17:58:21.033608Z",
     "start_time": "2024-02-07T17:58:21.030856Z"
    }
   },
   "id": "2265a8038df1d1da",
   "execution_count": 21
  },
  {
   "cell_type": "code",
   "outputs": [
    {
     "name": "stdout",
     "output_type": "stream",
     "text": [
      "2010154143031607682800177132997017\n"
     ]
    }
   ],
   "source": [
    "p=1004177248169415667\n",
    "q=2001792160394051\n",
    "print (p*q)"
   ],
   "metadata": {
    "collapsed": false,
    "ExecuteTime": {
     "end_time": "2024-02-07T18:20:52.529866Z",
     "start_time": "2024-02-07T18:20:52.526245Z"
    }
   },
   "id": "a57bd51db980252c",
   "execution_count": 22
  }
 ],
 "metadata": {
  "kernelspec": {
   "display_name": "Python 3",
   "language": "python",
   "name": "python3"
  },
  "language_info": {
   "codemirror_mode": {
    "name": "ipython",
    "version": 2
   },
   "file_extension": ".py",
   "mimetype": "text/x-python",
   "name": "python",
   "nbconvert_exporter": "python",
   "pygments_lexer": "ipython2",
   "version": "2.7.6"
  }
 },
 "nbformat": 4,
 "nbformat_minor": 5
}
